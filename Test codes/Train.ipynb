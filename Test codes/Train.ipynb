{
 "cells": [
  {
   "cell_type": "code",
   "execution_count": 2,
   "metadata": {},
   "outputs": [],
   "source": [
    "import numpy as np\n",
    "import cv2\n",
    "import json\n",
    "from sklearn.model_selection import train_test_split\n",
    "from tensorflow.keras.models import Sequential\n",
    "from tensorflow.keras.layers import Dense\n"
   ]
  },
  {
   "cell_type": "code",
   "execution_count": null,
   "metadata": {},
   "outputs": [],
   "source": [
    "# Function to get screen width and height\n",
    "def get_screen_dimensions():\n",
    "    screen_width, screen_height = 1920, 1080  # Default values (replace with actual dimensions)\n",
    "    if platform.system() == \"Windows\":\n",
    "        try:\n",
    "            import ctypes\n",
    "            user32 = ctypes.windll.user32\n",
    "            screen_width = user32.GetSystemMetrics(0)\n",
    "            screen_height = user32.GetSystemMetrics(1)\n",
    "        except:\n",
    "            pass\n",
    "    return screen_width, screen_height"
   ]
  },
  {
   "cell_type": "code",
   "execution_count": 3,
   "metadata": {},
   "outputs": [],
   "source": [
    "# JSON file path\n",
    "json_file_path = \"iris_data.json\"\n",
    "\n",
    "# Load data from the JSON file\n",
    "with open(json_file_path, \"r\") as json_file:\n",
    "    json_data = json.load(json_file)\n"
   ]
  },
  {
   "cell_type": "code",
   "execution_count": 4,
   "metadata": {},
   "outputs": [],
   "source": [
    "# Extract features (iris positions) and labels (circle positions)\n",
    "iris_left = np.array([(point[\"x\"]/, point[\"y\"]) for point in json_data[\"left_irises\"]])\n",
    "iris_right = np.array([(point[\"x\"], point[\"y\"]) for point in json_data[\"right_irises\"]])\n",
    "circles = np.array([(point[\"x\"], point[\"y\"]) for point in json_data[\"circles\"]])"
   ]
  },
  {
   "cell_type": "code",
   "execution_count": 13,
   "metadata": {},
   "outputs": [
    {
     "name": "stdout",
     "output_type": "stream",
     "text": [
      "[[391 199]\n",
      " [383 201]\n",
      " [407 198]\n",
      " [408 217]\n",
      " [365 219]\n",
      " [381 198]\n",
      " [372 207]\n",
      " [394 208]\n",
      " [360 208]\n",
      " [345 207]\n",
      " [342 217]\n",
      " [381 216]\n",
      " [386 212]\n",
      " [366 217]\n",
      " [362 215]\n",
      " [344 209]\n",
      " [362 214]]\n",
      "[[424 194]\n",
      " [417 196]\n",
      " [438 193]\n",
      " [440 214]\n",
      " [400 216]\n",
      " [418 192]\n",
      " [408 202]\n",
      " [430 203]\n",
      " [393 205]\n",
      " [378 204]\n",
      " [375 215]\n",
      " [411 214]\n",
      " [417 208]\n",
      " [399 214]\n",
      " [394 211]\n",
      " [378 207]\n",
      " [396 212]]\n",
      "[[ 11  10]\n",
      " [321  10]\n",
      " [  8   8]\n",
      " [  9 473]\n",
      " [631 468]\n",
      " [628   8]\n",
      " [630 470]\n",
      " [ 10 470]\n",
      " [320 239]\n",
      " [630   9]\n",
      " [630 469]\n",
      " [ 13 471]\n",
      " [ 11   7]\n",
      " [323 238]\n",
      " [318 239]\n",
      " [630   9]\n",
      " [320 239]]\n"
     ]
    }
   ],
   "source": [
    "print(iris_left)\n",
    "print(iris_right)\n",
    "print(circles)"
   ]
  },
  {
   "cell_type": "code",
   "execution_count": 17,
   "metadata": {},
   "outputs": [
    {
     "name": "stdout",
     "output_type": "stream",
     "text": [
      "[[391 199 424 194]\n",
      " [383 201 417 196]\n",
      " [407 198 438 193]\n",
      " [408 217 440 214]\n",
      " [365 219 400 216]\n",
      " [381 198 418 192]\n",
      " [372 207 408 202]\n",
      " [394 208 430 203]\n",
      " [360 208 393 205]\n",
      " [345 207 378 204]\n",
      " [342 217 375 215]\n",
      " [381 216 411 214]\n",
      " [386 212 417 208]\n",
      " [366 217 399 214]\n",
      " [362 215 394 211]\n",
      " [344 209 378 207]\n",
      " [362 214 396 212]]\n"
     ]
    }
   ],
   "source": [
    "iris_positions = np.concatenate((iris_left, iris_right), axis=1)\n",
    "print(iris_positions)"
   ]
  },
  {
   "cell_type": "code",
   "execution_count": 19,
   "metadata": {},
   "outputs": [
    {
     "data": {
      "text/plain": [
       "array([[391, 199, 424, 194,  11,  10],\n",
       "       [383, 201, 417, 196, 321,  10],\n",
       "       [407, 198, 438, 193,   8,   8],\n",
       "       [408, 217, 440, 214,   9, 473],\n",
       "       [365, 219, 400, 216, 631, 468],\n",
       "       [381, 198, 418, 192, 628,   8],\n",
       "       [372, 207, 408, 202, 630, 470],\n",
       "       [394, 208, 430, 203,  10, 470],\n",
       "       [360, 208, 393, 205, 320, 239],\n",
       "       [345, 207, 378, 204, 630,   9],\n",
       "       [342, 217, 375, 215, 630, 469],\n",
       "       [381, 216, 411, 214,  13, 471],\n",
       "       [386, 212, 417, 208,  11,   7],\n",
       "       [366, 217, 399, 214, 323, 238],\n",
       "       [362, 215, 394, 211, 318, 239],\n",
       "       [344, 209, 378, 207, 630,   9],\n",
       "       [362, 214, 396, 212, 320, 239]])"
      ]
     },
     "execution_count": 19,
     "metadata": {},
     "output_type": "execute_result"
    }
   ],
   "source": [
    "# Combine iris positions and circles to form the feature matrix\n",
    "features = np.concatenate((iris_positions, circles), axis=1)\n",
    "features\n"
   ]
  },
  {
   "cell_type": "code",
   "execution_count": 4,
   "metadata": {},
   "outputs": [
    {
     "name": "stdout",
     "output_type": "stream",
     "text": [
      "All Window Titles: [<built-in method title of str object at 0x000001707F5B8030>, <built-in method title of str object at 0x000001707F5B8030>, <built-in method title of str object at 0x00000170040C5A10>, <built-in method title of str object at 0x00000170041B1B10>, <built-in method title of str object at 0x000001707F5B8030>, <built-in method title of str object at 0x0000017003F3DA70>, <built-in method title of str object at 0x000001707F5B8030>, <built-in method title of str object at 0x000001707F5B8030>, <built-in method title of str object at 0x000001707F5B8030>, <built-in method title of str object at 0x000001707F5B8030>, <built-in method title of str object at 0x00000170041BF570>, <built-in method title of str object at 0x00000170041BEA70>, <built-in method title of str object at 0x00000170041858F0>, <built-in method title of str object at 0x000001707F5B8030>, <built-in method title of str object at 0x000001707F5B8030>, <built-in method title of str object at 0x00000170041BE370>]\n",
      "No window found with title: Gaze Tracking\n"
     ]
    }
   ],
   "source": [
    "import pygetwindow as gw\n",
    "\n",
    "# Print all window titles\n",
    "all_titles = [window.title for window in gw.getAllTitles()]\n",
    "print(\"All Window Titles:\", all_titles)\n",
    "\n",
    "# Try to find the window with the specified title\n",
    "window_title = 'Gaze Tracking'  # Update with your actual window title\n",
    "windows = gw.getWindowsWithTitle(\"<built-in method title of str object at 0x000001707F5B8030>\")\n",
    "\n",
    "if windows:\n",
    "    # Get the first window with the specified title\n",
    "    screen = windows[0]\n",
    "    print(f\"Window found: {screen.title}\")\n",
    "    screen_width = screen.width\n",
    "    screen_height = screen.height\n",
    "else:\n",
    "    print(f\"No window found with title: {window_title}\")\n"
   ]
  }
 ],
 "metadata": {
  "kernelspec": {
   "display_name": "Python 3",
   "language": "python",
   "name": "python3"
  },
  "language_info": {
   "codemirror_mode": {
    "name": "ipython",
    "version": 3
   },
   "file_extension": ".py",
   "mimetype": "text/x-python",
   "name": "python",
   "nbconvert_exporter": "python",
   "pygments_lexer": "ipython3",
   "version": "3.10.11"
  }
 },
 "nbformat": 4,
 "nbformat_minor": 2
}
